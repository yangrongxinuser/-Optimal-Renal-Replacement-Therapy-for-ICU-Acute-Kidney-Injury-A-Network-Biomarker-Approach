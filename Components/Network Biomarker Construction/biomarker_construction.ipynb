{
  "nbformat": 4,
  "nbformat_minor": 0,
  "metadata": {
    "colab": {
      "provenance": []
    },
    "kernelspec": {
      "name": "python3",
      "display_name": "Python 3"
    },
    "language_info": {
      "name": "python"
    }
  },
  "cells": [
    {
      "cell_type": "code",
      "source": [
        "import pandas as pd\n",
        "\n",
        "# Load the data from the Excel file into a Pandas DataFrame\n",
        "file_path = \"/content/no-response.xlsx\"\n",
        "df_1 = pd.read_excel(file_path, index_col=0)  # Assuming the first column contains sample IDs\n",
        "\n",
        "# Load the data from the Excel file into a Pandas DataFrame\n",
        "file_path = \"/content/reference-samples.xlsx\"\n",
        "df_2 = pd.read_excel(file_path, index_col=0)  # Assuming the first column contains sample IDs\n",
        "\n",
        "\n",
        "\n",
        "\n",
        "# Combine both DataFrames to create a single DataFrame containing all samples\n",
        "reference_df = df_2\n",
        "\n",
        "\n",
        "# Initialize an empty dictionary to store SSNs for each single sample\n",
        "ssn_dict = {}\n",
        "\n",
        "# Iterate through each row as a single test sample\n",
        "for sample_id, single_sample in df_1.iterrows():\n",
        "    # Remove the single test sample from the DataFrame for reference samples\n",
        "    reference_samples = reference_df\n",
        "\n",
        "    # Calculate PCC for the reference samples (excluding the first column)\n",
        "    reference_pcc_matrix = reference_samples.corr()\n",
        "\n",
        "\n",
        "    # Construct the perturbed network by adding the single test sample\n",
        "    perturbed_reference_samples = reference_samples.append(single_sample)\n",
        "    perturbed_pcc_matrix = perturbed_reference_samples.corr()\n",
        "\n",
        "    # Calculate the differential network by taking the difference\n",
        "    differential_pcc_matrix = perturbed_pcc_matrix - reference_pcc_matrix\n",
        "\n",
        "    # Define a significance threshold (you may want to adjust this)\n",
        "    significance_threshold = 0.01\n",
        "\n",
        "    # Create the SSN for the individual sample based on significant edges\n",
        "    ssn = differential_pcc_matrix[abs(differential_pcc_matrix) > significance_threshold]\n",
        "\n",
        "    # Store the SSN in the dictionary\n",
        "    ssn_dict[sample_id] = ssn\n",
        "\n",
        "\n"
      ],
      "metadata": {
        "id": "Ov4wM6rvPc7Z"
      },
      "execution_count": null,
      "outputs": []
    }
  ]
}